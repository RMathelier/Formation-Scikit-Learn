{
 "cells": [
  {
   "cell_type": "markdown",
   "metadata": {},
   "source": [
    "### Code réalisé par Robin Mathelier en marge du livre \"Hands-on Machine Learning with Scikit-Learn and Tensorflow\" (O'Reilly, 2017) d'Aurélien Géron"
   ]
  },
  {
   "cell_type": "code",
   "execution_count": 1,
   "metadata": {},
   "outputs": [],
   "source": [
    "import os\n",
    "os.chdir('C:/Users/robin/Dropbox/Datasets')\n",
    "os.getcwd()\n",
    "\n",
    "import tarfile\n",
    "\n",
    "from six.moves import urllib\n",
    "\n",
    "import pandas as pd\n",
    "\n",
    "import matplotlib.pyplot as plt\n",
    "import seaborn as sns\n",
    "sns.set()\n",
    "%matplotlib inline\n",
    "import matplotlib\n",
    "\n",
    "import numpy as np\n",
    "import numpy.linalg as alg\n",
    "\n",
    "from sklearn import datasets\n",
    "\n",
    "from sklearn.model_selection import train_test_split\n",
    "from sklearn.model_selection import StratifiedShuffleSplit\n",
    "from sklearn.model_selection import cross_val_score\n",
    "from sklearn.model_selection import cross_val_predict\n",
    "from sklearn.model_selection import GridSearchCV\n",
    "\n",
    "from sklearn.preprocessing import LabelEncoder\n",
    "from sklearn.preprocessing import OneHotEncoder\n",
    "from sklearn.preprocessing import LabelBinarizer\n",
    "from sklearn.preprocessing import StandardScaler\n",
    "from sklearn.preprocessing import Imputer\n",
    "from sklearn.preprocessing import PolynomialFeatures\n",
    "\n",
    "from sklearn.base import BaseEstimator, TransformerMixin\n",
    "\n",
    "from sklearn.pipeline import Pipeline\n",
    "from sklearn.pipeline import FeatureUnion\n",
    "\n",
    "from sklearn.linear_model import LinearRegression\n",
    "from sklearn.linear_model import SGDClassifier\n",
    "from sklearn.linear_model import LogisticRegression\n",
    "\n",
    "from sklearn.metrics import confusion_matrix\n",
    "from sklearn.metrics import precision_score, recall_score\n",
    "from sklearn.metrics import f1_score\n",
    "from sklearn.metrics import precision_recall_curve\n",
    "from sklearn.metrics import roc_curve\n",
    "from sklearn.metrics import roc_auc_score\n",
    "from sklearn.metrics import mean_squared_error\n",
    "\n",
    "from sklearn.ensemble import RandomForestClassifier\n",
    "from sklearn.ensemble import GradientBoostingRegressor\n",
    "\n",
    "from sklearn.neighbors import KNeighborsClassifier\n",
    "\n",
    "from sklearn.svm import LinearSVC\n",
    "from sklearn.svm import SVC\n",
    "\n",
    "from sklearn.tree import DecisionTreeClassifier\n",
    "from sklearn.tree import export_graphviz"
   ]
  },
  {
   "cell_type": "code",
   "execution_count": 2,
   "metadata": {},
   "outputs": [
    {
     "data": {
      "text/plain": [
       "'C:\\\\Users\\\\robin\\\\Dropbox\\\\Datasets'"
      ]
     },
     "execution_count": 2,
     "metadata": {},
     "output_type": "execute_result"
    }
   ],
   "source": [
    "os.getcwd()"
   ]
  },
  {
   "cell_type": "code",
   "execution_count": 3,
   "metadata": {},
   "outputs": [],
   "source": [
    "iris = datasets.load_iris()"
   ]
  },
  {
   "cell_type": "code",
   "execution_count": 4,
   "metadata": {},
   "outputs": [],
   "source": [
    "X = iris['data'][:,2:]\n",
    "y = iris.target"
   ]
  },
  {
   "cell_type": "code",
   "execution_count": 5,
   "metadata": {},
   "outputs": [],
   "source": [
    "tree_clf = DecisionTreeClassifier()"
   ]
  },
  {
   "cell_type": "code",
   "execution_count": 6,
   "metadata": {},
   "outputs": [
    {
     "data": {
      "text/plain": [
       "DecisionTreeClassifier(class_weight=None, criterion='gini', max_depth=None,\n",
       "                       max_features=None, max_leaf_nodes=None,\n",
       "                       min_impurity_decrease=0.0, min_impurity_split=None,\n",
       "                       min_samples_leaf=1, min_samples_split=2,\n",
       "                       min_weight_fraction_leaf=0.0, presort=False,\n",
       "                       random_state=None, splitter='best')"
      ]
     },
     "execution_count": 6,
     "metadata": {},
     "output_type": "execute_result"
    }
   ],
   "source": [
    "tree_clf.fit(X,y)"
   ]
  },
  {
   "cell_type": "code",
   "execution_count": 7,
   "metadata": {},
   "outputs": [],
   "source": [
    "export_graphviz(\n",
    "        tree_clf,\n",
    "        feature_names=iris.feature_names[2:],\n",
    "        out_file = \"iris_tree.dot\",\n",
    "        class_names=iris.target_names,\n",
    "        rounded=True,\n",
    "        filled=True\n",
    "    )"
   ]
  },
  {
   "cell_type": "code",
   "execution_count": 8,
   "metadata": {},
   "outputs": [],
   "source": [
    "make_moons = datasets.make_moons(n_samples = 100, noise = 0.4)"
   ]
  },
  {
   "cell_type": "code",
   "execution_count": 9,
   "metadata": {},
   "outputs": [],
   "source": [
    "label = make_moons[1]"
   ]
  },
  {
   "cell_type": "code",
   "execution_count": 10,
   "metadata": {},
   "outputs": [],
   "source": [
    "data= make_moons[0]"
   ]
  },
  {
   "cell_type": "code",
   "execution_count": 11,
   "metadata": {},
   "outputs": [],
   "source": [
    "X_0_0 = []\n",
    "X_0_1 = []\n",
    "X_1_0 = []\n",
    "X_1_1 = []\n",
    "for i in range(label.shape[0]) :\n",
    "    if label[i] == 1 :\n",
    "        X_1_0.append(data[i][0])\n",
    "        X_1_1.append(data[i][1])\n",
    "    else : \n",
    "        X_0_0.append(data[i][0])\n",
    "        X_0_1.append(data[i][1])    "
   ]
  },
  {
   "cell_type": "code",
   "execution_count": 12,
   "metadata": {},
   "outputs": [
    {
     "data": {
      "text/plain": [
       "<matplotlib.collections.PathCollection at 0x1a362ddc348>"
      ]
     },
     "execution_count": 12,
     "metadata": {},
     "output_type": "execute_result"
    },
    {
     "data": {
      "image/png": "[encoded data removed]",
      "text/plain": [
       "<Figure size 432x288 with 1 Axes>"
      ]
     },
     "metadata": {
      "needs_background": "light"
     },
     "output_type": "display_data"
    }
   ],
   "source": [
    "plt.scatter(X_0_0, X_0_1, s = 0.5)\n",
    "plt.scatter(X_1_0, X_1_1, s = 0.5)"
   ]
  },
  {
   "cell_type": "code",
   "execution_count": 13,
   "metadata": {},
   "outputs": [],
   "source": [
    "X_train, X_test, y_train, y_test = train_test_split(data, label, test_size = 0.2)"
   ]
  },
  {
   "cell_type": "code",
   "execution_count": 14,
   "metadata": {},
   "outputs": [
    {
     "data": {
      "text/plain": [
       "((80, 2), (80,))"
      ]
     },
     "execution_count": 14,
     "metadata": {},
     "output_type": "execute_result"
    }
   ],
   "source": [
    "X_train.shape, y_train.shape"
   ]
  },
  {
   "cell_type": "code",
   "execution_count": 15,
   "metadata": {},
   "outputs": [],
   "source": [
    "tree_clf = DecisionTreeClassifier()"
   ]
  },
  {
   "cell_type": "code",
   "execution_count": 16,
   "metadata": {},
   "outputs": [],
   "source": [
    "param_grid = {'max_leaf_nodes' : range(2,9) , 'max_depth' : [2,3,4]}"
   ]
  },
  {
   "cell_type": "code",
   "execution_count": 17,
   "metadata": {},
   "outputs": [],
   "source": [
    "grid_search = GridSearchCV(tree_clf, param_grid = param_grid, cv = 3)"
   ]
  },
  {
   "cell_type": "code",
   "execution_count": 18,
   "metadata": {},
   "outputs": [
    {
     "name": "stderr",
     "output_type": "stream",
     "text": [
      "C:\\Users\\robin\\Anaconda3\\lib\\site-packages\\sklearn\\model_selection\\_search.py:814: DeprecationWarning: The default of the `iid` parameter will change from True to False in version 0.22 and will be removed in 0.24. This will change numeric results when test-set sizes are unequal.\n",
      "  DeprecationWarning)\n"
     ]
    },
    {
     "data": {
      "text/plain": [
       "GridSearchCV(cv=3, error_score='raise-deprecating',\n",
       "             estimator=DecisionTreeClassifier(class_weight=None,\n",
       "                                              criterion='gini', max_depth=None,\n",
       "                                              max_features=None,\n",
       "                                              max_leaf_nodes=None,\n",
       "                                              min_impurity_decrease=0.0,\n",
       "                                              min_impurity_split=None,\n",
       "                                              min_samples_leaf=1,\n",
       "                                              min_samples_split=2,\n",
       "                                              min_weight_fraction_leaf=0.0,\n",
       "                                              presort=False, random_state=None,\n",
       "                                              splitter='best'),\n",
       "             iid='warn', n_jobs=None,\n",
       "             param_grid={'max_depth': [2, 3, 4], 'max_leaf_nodes': range(2, 9)},\n",
       "             pre_dispatch='2*n_jobs', refit=True, return_train_score=False,\n",
       "             scoring=None, verbose=0)"
      ]
     },
     "execution_count": 18,
     "metadata": {},
     "output_type": "execute_result"
    }
   ],
   "source": [
    "grid_search.fit(X_train, y_train)"
   ]
  },
  {
   "cell_type": "code",
   "execution_count": 19,
   "metadata": {},
   "outputs": [
    {
     "data": {
      "text/plain": [
       "{'max_depth': 4, 'max_leaf_nodes': 5}"
      ]
     },
     "execution_count": 19,
     "metadata": {},
     "output_type": "execute_result"
    }
   ],
   "source": [
    "grid_search.best_params_"
   ]
  },
  {
   "cell_type": "code",
   "execution_count": 20,
   "metadata": {},
   "outputs": [],
   "source": [
    "tree_clf_grid = DecisionTreeClassifier(max_depth = 2, max_leaf_nodes = 4)"
   ]
  },
  {
   "cell_type": "code",
   "execution_count": 21,
   "metadata": {},
   "outputs": [
    {
     "data": {
      "text/plain": [
       "DecisionTreeClassifier(class_weight=None, criterion='gini', max_depth=2,\n",
       "                       max_features=None, max_leaf_nodes=4,\n",
       "                       min_impurity_decrease=0.0, min_impurity_split=None,\n",
       "                       min_samples_leaf=1, min_samples_split=2,\n",
       "                       min_weight_fraction_leaf=0.0, presort=False,\n",
       "                       random_state=None, splitter='best')"
      ]
     },
     "execution_count": 21,
     "metadata": {},
     "output_type": "execute_result"
    }
   ],
   "source": [
    "tree_clf_grid.fit(X_train, y_train)"
   ]
  },
  {
   "cell_type": "code",
   "execution_count": 22,
   "metadata": {},
   "outputs": [
    {
     "name": "stderr",
     "output_type": "stream",
     "text": [
      "C:\\Users\\robin\\Anaconda3\\lib\\site-packages\\sklearn\\model_selection\\_split.py:1978: FutureWarning: The default value of cv will change from 3 to 5 in version 0.22. Specify it explicitly to silence this warning.\n",
      "  warnings.warn(CV_WARNING, FutureWarning)\n"
     ]
    },
    {
     "data": {
      "text/plain": [
       "array([1.        , 0.66666667, 1.        ])"
      ]
     },
     "execution_count": 22,
     "metadata": {},
     "output_type": "execute_result"
    }
   ],
   "source": [
    "cross_val_score(tree_clf_grid, X_test, y_test)"
   ]
  },
  {
   "cell_type": "code",
   "execution_count": 23,
   "metadata": {},
   "outputs": [
    {
     "data": {
      "text/plain": [
       "array([93612, 34525, 66628,  8154,  5887, 40518, 16636, 12305, 37627,\n",
       "       28779, 10061, 27270, 74419, 51377, 59120, 60493, 26969, 47154,\n",
       "       33435, 70662, 12185, 90160, 46067, 37258, 83259, 83734, 18738,\n",
       "       48218, 55528, 68366, 61613, 16275, 16023, 98000,   239, 31024,\n",
       "       55574, 47092,   464, 71633, 54143, 94190, 53796, 13408, 20724,\n",
       "        3486, 85205, 48172, 99106, 66061,  8531, 40609, 28715, 38656,\n",
       "       67822, 59416, 93884,   474, 73519, 35549, 21611, 83889, 86282,\n",
       "       42274, 21701, 53541, 63631, 53556, 85102, 26834, 67900, 10797,\n",
       "       95969, 41228, 65974, 95213, 82341, 34642, 20366, 19148, 16489,\n",
       "       65837, 43998, 57596, 93044, 91107, 82422,  6169, 68192, 87563,\n",
       "       77530, 43473, 77297, 11828,  7750, 48354, 83918,  1813, 65342,\n",
       "        8627])"
      ]
     },
     "execution_count": 23,
     "metadata": {},
     "output_type": "execute_result"
    }
   ],
   "source": [
    "np.random.randint(1,100000,100)"
   ]
  },
  {
   "cell_type": "code",
   "execution_count": 24,
   "metadata": {},
   "outputs": [
    {
     "data": {
      "text/plain": [
       "array([[ 0.70487752,  0.09237743],\n",
       "       [ 0.47307125,  0.93698794],\n",
       "       [ 0.94212599,  0.06628112],\n",
       "       [ 0.05453998, -0.12671259],\n",
       "       [ 1.95260453,  0.59682442],\n",
       "       [ 2.36291435,  0.87241023],\n",
       "       [ 0.64413787, -0.19128535],\n",
       "       [ 0.8572977 , -0.62461509],\n",
       "       [ 1.91032689,  0.28944893],\n",
       "       [ 1.91132382, -0.25584408],\n",
       "       [ 0.03544229,  1.11671352],\n",
       "       [ 1.28850358,  0.75795817],\n",
       "       [ 1.99744542,  1.22307265],\n",
       "       [-0.70474593,  0.58071708],\n",
       "       [-0.49155027,  0.41425023],\n",
       "       [ 1.09819063, -0.49146596],\n",
       "       [ 1.10798655,  0.08723328],\n",
       "       [ 0.49560544, -0.06610934],\n",
       "       [ 0.05028534,  1.05951666],\n",
       "       [ 1.23971207,  0.06993343],\n",
       "       [ 0.53232077,  0.30235219],\n",
       "       [ 0.10256199, -0.05235315],\n",
       "       [-0.17166766, -0.4036587 ],\n",
       "       [-0.17620951,  0.69133025],\n",
       "       [ 1.86776592,  0.05035487],\n",
       "       [ 0.53877973, -0.15755341],\n",
       "       [ 1.24806497, -0.83314422],\n",
       "       [ 0.15118634,  0.10630009],\n",
       "       [ 1.39092916, -0.53283851],\n",
       "       [ 0.51964637, -0.03185159],\n",
       "       [ 0.3203029 , -0.37029636],\n",
       "       [ 0.24280788, -1.15706063],\n",
       "       [ 2.13912611,  0.80754267],\n",
       "       [-0.47032356,  0.22950265],\n",
       "       [ 1.8884099 , -0.16867886],\n",
       "       [ 0.39713357,  1.52074237],\n",
       "       [ 0.40023888,  1.25703006],\n",
       "       [ 1.62562233,  0.35072192],\n",
       "       [-0.46101054,  1.43363692],\n",
       "       [-1.23217193, -0.52777147],\n",
       "       [ 1.9352747 ,  0.41780676],\n",
       "       [ 0.94663419, -0.65111161],\n",
       "       [-0.74590848,  1.66764842],\n",
       "       [ 1.42877048,  0.31937719],\n",
       "       [ 1.04385737,  0.28596026],\n",
       "       [-0.84158186,  1.5679477 ],\n",
       "       [-0.99000005,  0.18171479],\n",
       "       [-0.98679424,  0.92735858],\n",
       "       [-0.18571857,  0.07644009],\n",
       "       [ 1.49520682,  1.18242787],\n",
       "       [ 0.60265117, -0.23314321],\n",
       "       [ 2.04594443,  0.67944131],\n",
       "       [-0.98057212, -0.10019583],\n",
       "       [ 0.64695183,  0.09516108],\n",
       "       [ 0.56018416,  0.56401884],\n",
       "       [ 0.24625322,  0.37510081],\n",
       "       [-0.29495757,  0.34172565],\n",
       "       [ 0.49541213, -0.72600362],\n",
       "       [-0.87742738,  0.61725176],\n",
       "       [ 0.38385407,  1.1568898 ],\n",
       "       [ 0.22626719,  0.96804041],\n",
       "       [ 0.94872956, -0.32828438],\n",
       "       [ 0.51944617, -0.46727583],\n",
       "       [-0.27987079,  0.27223836],\n",
       "       [ 0.4969007 ,  0.05464081],\n",
       "       [ 0.22401834, -0.09865969],\n",
       "       [-0.5848106 ,  0.73959089],\n",
       "       [ 1.12470921, -0.23189673],\n",
       "       [ 1.55903081,  0.14894317],\n",
       "       [ 0.84253538, -0.98833514],\n",
       "       [-1.1651384 , -0.40474566],\n",
       "       [ 0.93402928,  0.25931521],\n",
       "       [ 0.70084253,  0.34976557],\n",
       "       [ 0.25094203, -0.04005745],\n",
       "       [ 1.00583712, -0.57781623],\n",
       "       [-0.05888183,  0.06079308],\n",
       "       [-0.39464053,  1.7458125 ],\n",
       "       [-0.27925715,  0.16812756],\n",
       "       [ 0.84416981, -0.43570902],\n",
       "       [-0.73171116,  0.18108801]])"
      ]
     },
     "execution_count": 24,
     "metadata": {},
     "output_type": "execute_result"
    }
   ],
   "source": [
    "X_train"
   ]
  },
  {
   "cell_type": "code",
   "execution_count": 25,
   "metadata": {},
   "outputs": [],
   "source": [
    "sous_ensembles_data = []\n",
    "sous_ensembles_label = []\n",
    "for i in range(1000) :\n",
    "    sous_ensemble_data = []\n",
    "    sous_ensemble_label = []\n",
    "    indices = np.random.randint(1,80,100)\n",
    "    for indice in indices :\n",
    "        indice = int(indice)\n",
    "        sous_ensemble_data.append(X_train[indice])\n",
    "        sous_ensemble_label.append(y_train[indice])\n",
    "    sous_ensembles_data.append(sous_ensemble_data)\n",
    "    sous_ensembles_label.append(sous_ensemble_label)"
   ]
  },
  {
   "cell_type": "code",
   "execution_count": 26,
   "metadata": {},
   "outputs": [
    {
     "data": {
      "text/plain": [
       "[array([0.4969007 , 0.05464081]),\n",
       " array([-0.27987079,  0.27223836]),\n",
       " array([ 0.10256199, -0.05235315]),\n",
       " array([ 0.24280788, -1.15706063]),\n",
       " array([ 0.51964637, -0.03185159]),\n",
       " array([-1.23217193, -0.52777147]),\n",
       " array([0.64695183, 0.09516108]),\n",
       " array([0.4969007 , 0.05464081]),\n",
       " array([-0.27925715,  0.16812756]),\n",
       " array([1.49520682, 1.18242787]),\n",
       " array([1.91032689, 0.28944893]),\n",
       " array([1.9352747 , 0.41780676]),\n",
       " array([0.40023888, 1.25703006]),\n",
       " array([-0.27987079,  0.27223836]),\n",
       " array([ 0.3203029 , -0.37029636]),\n",
       " array([ 0.64413787, -0.19128535]),\n",
       " array([ 1.8884099 , -0.16867886]),\n",
       " array([1.95260453, 0.59682442]),\n",
       " array([0.40023888, 1.25703006]),\n",
       " array([-0.27987079,  0.27223836]),\n",
       " array([-0.98679424,  0.92735858]),\n",
       " array([-0.17166766, -0.4036587 ]),\n",
       " array([-0.98057212, -0.10019583]),\n",
       " array([ 0.3203029 , -0.37029636]),\n",
       " array([ 0.25094203, -0.04005745]),\n",
       " array([1.99744542, 1.22307265]),\n",
       " array([-0.05888183,  0.06079308]),\n",
       " array([-0.05888183,  0.06079308]),\n",
       " array([1.10798655, 0.08723328]),\n",
       " array([ 0.10256199, -0.05235315]),\n",
       " array([ 0.64413787, -0.19128535]),\n",
       " array([-0.39464053,  1.7458125 ]),\n",
       " array([-0.99000005,  0.18171479]),\n",
       " array([-0.46101054,  1.43363692]),\n",
       " array([0.05028534, 1.05951666]),\n",
       " array([ 0.8572977 , -0.62461509]),\n",
       " array([ 0.94663419, -0.65111161]),\n",
       " array([ 0.8572977 , -0.62461509]),\n",
       " array([-0.27925715,  0.16812756]),\n",
       " array([1.42877048, 0.31937719]),\n",
       " array([-0.46101054,  1.43363692]),\n",
       " array([ 1.91132382, -0.25584408]),\n",
       " array([-0.99000005,  0.18171479]),\n",
       " array([0.64695183, 0.09516108]),\n",
       " array([1.23971207, 0.06993343]),\n",
       " array([0.22626719, 0.96804041]),\n",
       " array([-0.18571857,  0.07644009]),\n",
       " array([0.38385407, 1.1568898 ]),\n",
       " array([-0.70474593,  0.58071708]),\n",
       " array([ 0.3203029 , -0.37029636]),\n",
       " array([0.4969007 , 0.05464081]),\n",
       " array([1.42877048, 0.31937719]),\n",
       " array([ 0.51964637, -0.03185159]),\n",
       " array([0.22626719, 0.96804041]),\n",
       " array([ 0.84416981, -0.43570902]),\n",
       " array([1.28850358, 0.75795817]),\n",
       " array([-0.05888183,  0.06079308]),\n",
       " array([1.28850358, 0.75795817]),\n",
       " array([ 0.51944617, -0.46727583]),\n",
       " array([ 0.64413787, -0.19128535]),\n",
       " array([ 0.49541213, -0.72600362]),\n",
       " array([0.03544229, 1.11671352]),\n",
       " array([0.38385407, 1.1568898 ]),\n",
       " array([-0.17620951,  0.69133025]),\n",
       " array([ 0.49560544, -0.06610934]),\n",
       " array([ 1.91132382, -0.25584408]),\n",
       " array([ 0.49560544, -0.06610934]),\n",
       " array([2.04594443, 0.67944131]),\n",
       " array([ 0.51964637, -0.03185159]),\n",
       " array([ 0.8572977 , -0.62461509]),\n",
       " array([-0.17620951,  0.69133025]),\n",
       " array([-1.23217193, -0.52777147]),\n",
       " array([1.99744542, 1.22307265]),\n",
       " array([1.23971207, 0.06993343]),\n",
       " array([0.64695183, 0.09516108]),\n",
       " array([0.93402928, 0.25931521]),\n",
       " array([-1.23217193, -0.52777147]),\n",
       " array([ 0.64413787, -0.19128535]),\n",
       " array([ 0.3203029 , -0.37029636]),\n",
       " array([-0.39464053,  1.7458125 ]),\n",
       " array([1.62562233, 0.35072192]),\n",
       " array([-0.98679424,  0.92735858]),\n",
       " array([0.05028534, 1.05951666]),\n",
       " array([-0.98057212, -0.10019583]),\n",
       " array([0.38385407, 1.1568898 ]),\n",
       " array([-0.27925715,  0.16812756]),\n",
       " array([1.55903081, 0.14894317]),\n",
       " array([ 1.91132382, -0.25584408]),\n",
       " array([0.94212599, 0.06628112]),\n",
       " array([-0.27987079,  0.27223836]),\n",
       " array([0.22626719, 0.96804041]),\n",
       " array([0.15118634, 0.10630009]),\n",
       " array([-0.49155027,  0.41425023]),\n",
       " array([ 0.8572977 , -0.62461509]),\n",
       " array([ 0.64413787, -0.19128535]),\n",
       " array([1.04385737, 0.28596026]),\n",
       " array([ 0.51964637, -0.03185159]),\n",
       " array([-0.99000005,  0.18171479]),\n",
       " array([ 1.24806497, -0.83314422]),\n",
       " array([0.56018416, 0.56401884])]"
      ]
     },
     "execution_count": 26,
     "metadata": {},
     "output_type": "execute_result"
    }
   ],
   "source": [
    "sous_ensembles_data[0]"
   ]
  },
  {
   "cell_type": "code",
   "execution_count": 27,
   "metadata": {},
   "outputs": [],
   "source": [
    "sous_ensembles_data = np.array(sous_ensemble_data)\n",
    "sous_ensembles_label = np.array(sous_ensemble_label)"
   ]
  },
  {
   "cell_type": "code",
   "execution_count": 28,
   "metadata": {},
   "outputs": [],
   "source": [
    "liste_model = []\n",
    "for i in range(100) :\n",
    "    tree_clf_grid = DecisionTreeClassifier(max_depth = 2, max_leaf_nodes = 4)\n",
    "    #liste_model.append(tree_clf_grid.fit(sous_ensembles_data[i], sous_ensembles_label[i]))"
   ]
  },
  {
   "cell_type": "code",
   "execution_count": 29,
   "metadata": {},
   "outputs": [],
   "source": [
    "svm = poly_kernel_svm_clf = Pipeline([\n",
    "    ('scaler', StandardScaler()),\n",
    "    ('svm_clf', SVC(kernel = 'poly' , degree = 3, coef0 = 1, C=5)) \n",
    "])"
   ]
  },
  {
   "cell_type": "code",
   "execution_count": 30,
   "metadata": {},
   "outputs": [
    {
     "data": {
      "text/plain": [
       "Pipeline(memory=None,\n",
       "         steps=[('scaler',\n",
       "                 StandardScaler(copy=True, with_mean=True, with_std=True)),\n",
       "                ('svm_clf',\n",
       "                 SVC(C=5, cache_size=200, class_weight=None, coef0=1,\n",
       "                     decision_function_shape='ovr', degree=3,\n",
       "                     gamma='auto_deprecated', kernel='poly', max_iter=-1,\n",
       "                     probability=False, random_state=None, shrinking=True,\n",
       "                     tol=0.001, verbose=False))],\n",
       "         verbose=False)"
      ]
     },
     "execution_count": 30,
     "metadata": {},
     "output_type": "execute_result"
    }
   ],
   "source": [
    "poly_kernel_svm_clf.fit(X_train,y_train)"
   ]
  },
  {
   "cell_type": "code",
   "execution_count": 31,
   "metadata": {},
   "outputs": [
    {
     "data": {
      "text/plain": [
       "array([[0.70487752, 0.09237743]])"
      ]
     },
     "execution_count": 31,
     "metadata": {},
     "output_type": "execute_result"
    }
   ],
   "source": [
    "np.array([X_train[0]])"
   ]
  },
  {
   "cell_type": "code",
   "execution_count": 32,
   "metadata": {},
   "outputs": [
    {
     "data": {
      "text/plain": [
       "array([1], dtype=int64)"
      ]
     },
     "execution_count": 32,
     "metadata": {},
     "output_type": "execute_result"
    }
   ],
   "source": [
    "svm.predict(np.array([[0,0]]))"
   ]
  },
  {
   "cell_type": "code",
   "execution_count": 33,
   "metadata": {},
   "outputs": [
    {
     "data": {
      "text/plain": [
       "array([[-1.5       , -1.        ],\n",
       "       [-1.5       , -0.98743719],\n",
       "       [-1.5       , -0.97487437],\n",
       "       ...,\n",
       "       [ 2.5       ,  1.47487437],\n",
       "       [ 2.5       ,  1.48743719],\n",
       "       [ 2.5       ,  1.5       ]])"
      ]
     },
     "execution_count": 33,
     "metadata": {},
     "output_type": "execute_result"
    }
   ],
   "source": [
    "X_abs = np.linspace(-1.5,2.5,200)\n",
    "Y_ord = np.linspace(-1,1.5, 200)\n",
    "Points = []\n",
    "for x in X_abs :\n",
    "    for y in Y_ord :\n",
    "        Points.append([x,y])\n",
    "Points = np.array(Points)\n",
    "Points"
   ]
  },
  {
   "cell_type": "code",
   "execution_count": 34,
   "metadata": {},
   "outputs": [],
   "source": [
    "Pred = []\n",
    "for point in Points :\n",
    "    Pred.append(svm.predict([point]))\n",
    "Pred = np.array(Pred)"
   ]
  },
  {
   "cell_type": "code",
   "execution_count": 35,
   "metadata": {},
   "outputs": [
    {
     "data": {
      "text/plain": [
       "((40000, 2), (40000, 1))"
      ]
     },
     "execution_count": 35,
     "metadata": {},
     "output_type": "execute_result"
    }
   ],
   "source": [
    "Points.shape, Pred.shape"
   ]
  },
  {
   "cell_type": "code",
   "execution_count": 36,
   "metadata": {},
   "outputs": [],
   "source": [
    "Points_0 = []\n",
    "Points_1 = []\n",
    "for i in range(40000) :\n",
    "    if Pred[i] == 0:\n",
    "        Points_0.append(Points[i])\n",
    "    else :\n",
    "        Points_1.append(Points[i])"
   ]
  },
  {
   "cell_type": "code",
   "execution_count": 37,
   "metadata": {},
   "outputs": [
    {
     "data": {
      "text/plain": [
       "((21293,), (21293,))"
      ]
     },
     "execution_count": 37,
     "metadata": {},
     "output_type": "execute_result"
    }
   ],
   "source": [
    "Points_0 = np.array(Points_0)\n",
    "Points_1 = np.array(Points_1)\n",
    "Points_0[:,0].shape, Points_0[:,1].shape"
   ]
  },
  {
   "cell_type": "code",
   "execution_count": 38,
   "metadata": {},
   "outputs": [
    {
     "data": {
      "text/plain": [
       "array([-1.5       , -1.5       , -1.5       , ...,  1.85678392,\n",
       "        1.87688442,  1.87688442])"
      ]
     },
     "execution_count": 38,
     "metadata": {},
     "output_type": "execute_result"
    }
   ],
   "source": [
    "Points_0[:,0]"
   ]
  },
  {
   "cell_type": "code",
   "execution_count": 39,
   "metadata": {},
   "outputs": [
    {
     "data": {
      "text/plain": [
       "<matplotlib.collections.PathCollection at 0x1a362e2f688>"
      ]
     },
     "execution_count": 39,
     "metadata": {},
     "output_type": "execute_result"
    },
    {
     "data": {
      "image/png": "[encoded data removed]",
      "text/plain": [
       "<Figure size 432x288 with 1 Axes>"
      ]
     },
     "metadata": {
      "needs_background": "light"
     },
     "output_type": "display_data"
    }
   ],
   "source": [
    "axes = plt.gca()\n",
    "axes.set_xlim(-1.5,2.5)\n",
    "axes.set_ylim(-1,1.5)\n",
    "plt.scatter(Points_0[:,0], Points_0[:,1])#, s = 'o', c = 0.5)\n",
    "plt.scatter(Points_1[:,0], Points_1[:,1])#, s = 'o', c = 0.5)\n",
    "plt.scatter(X_0_0, X_0_1, s = 20, marker = 'o', color = 'red')\n",
    "plt.scatter(X_1_0, X_1_1, s = 20, marker = '^', color = 'black')"
   ]
  },
  {
   "cell_type": "code",
   "execution_count": 40,
   "metadata": {},
   "outputs": [],
   "source": [
    "np.random.seed(42)\n",
    "X = np.random.rand(100, 1) - 0.5\n",
    "y = 3*X[:, 0]**2 + 0.05 * np.random.randn(100)"
   ]
  },
  {
   "cell_type": "code",
   "execution_count": 41,
   "metadata": {},
   "outputs": [],
   "source": [
    "gbrt = GradientBoostingRegressor(max_depth = 2, n_estimators = 200, learning_rate = 0.1)"
   ]
  },
  {
   "cell_type": "code",
   "execution_count": 42,
   "metadata": {},
   "outputs": [
    {
     "data": {
      "text/plain": [
       "GradientBoostingRegressor(alpha=0.9, criterion='friedman_mse', init=None,\n",
       "                          learning_rate=0.1, loss='ls', max_depth=2,\n",
       "                          max_features=None, max_leaf_nodes=None,\n",
       "                          min_impurity_decrease=0.0, min_impurity_split=None,\n",
       "                          min_samples_leaf=1, min_samples_split=2,\n",
       "                          min_weight_fraction_leaf=0.0, n_estimators=200,\n",
       "                          n_iter_no_change=None, presort='auto',\n",
       "                          random_state=None, subsample=1.0, tol=0.0001,\n",
       "                          validation_fraction=0.1, verbose=0, warm_start=False)"
      ]
     },
     "execution_count": 42,
     "metadata": {},
     "output_type": "execute_result"
    }
   ],
   "source": [
    "gbrt.fit(X,y)"
   ]
  },
  {
   "cell_type": "code",
   "execution_count": 43,
   "metadata": {},
   "outputs": [
    {
     "data": {
      "text/plain": [
       "array([-0.03863457])"
      ]
     },
     "execution_count": 43,
     "metadata": {},
     "output_type": "execute_result"
    }
   ],
   "source": [
    "gbrt.predict([[0]])"
   ]
  },
  {
   "cell_type": "code",
   "execution_count": 44,
   "metadata": {},
   "outputs": [],
   "source": [
    "abs = np.linspace(-0.5,0.5,50)\n",
    "ord = [gbrt.predict([[a]])[0] for a in abs]"
   ]
  },
  {
   "cell_type": "code",
   "execution_count": 45,
   "metadata": {},
   "outputs": [
    {
     "data": {
      "text/plain": [
       "[<matplotlib.lines.Line2D at 0x1a362df2548>]"
      ]
     },
     "execution_count": 45,
     "metadata": {},
     "output_type": "execute_result"
    },
    {
     "data": {
      "image/png": "[encoded data removed]",
      "text/plain": [
       "<Figure size 432x288 with 1 Axes>"
      ]
     },
     "metadata": {
      "needs_background": "light"
     },
     "output_type": "display_data"
    }
   ],
   "source": [
    "plt.scatter(X,y)\n",
    "plt.plot(abs,ord, color = 'r')"
   ]
  },
  {
   "cell_type": "code",
   "execution_count": null,
   "metadata": {},
   "outputs": [],
   "source": []
  }
 ],
 "metadata": {
  "kernelspec": {
   "display_name": "Python 3",
   "language": "python",
   "name": "python3"
  },
  "language_info": {
   "codemirror_mode": {
    "name": "ipython",
    "version": 3
   },
   "file_extension": ".py",
   "mimetype": "text/x-python",
   "name": "python",
   "nbconvert_exporter": "python",
   "pygments_lexer": "ipython3",
   "version": "3.7.4"
  }
 },
 "nbformat": 4,
 "nbformat_minor": 2
}
