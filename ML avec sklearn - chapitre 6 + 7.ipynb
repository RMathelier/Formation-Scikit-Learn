{
 "cells": [
  {
   "cell_type": "markdown",
   "metadata": {},
   "source": [
    "### Code réalisé par Robin Mathelier en marge du livre \"Hands-on Machine Learning with Scikit-Learn and Tensorflow\" (O'Reilly, 2017) d'Aurélien Géron"
   ]
  },
  {
   "cell_type": "code",
   "execution_count": 42,
   "metadata": {},
   "outputs": [],
   "source": [
    "import os\n",
    "os.chdir('C:/Users/robin/Dropbox/Datasets')\n",
    "os.getcwd()\n",
    "\n",
    "import tarfile\n",
    "\n",
    "from six.moves import urllib\n",
    "\n",
    "import pandas as pd\n",
    "\n",
    "import matplotlib.pyplot as plt\n",
    "import seaborn as sns\n",
    "sns.set()\n",
    "%matplotlib inline\n",
    "import matplotlib\n",
    "\n",
    "import numpy as np\n",
    "import numpy.linalg as alg\n",
    "\n",
    "from sklearn import datasets\n",
    "\n",
    "from sklearn.model_selection import train_test_split\n",
    "from sklearn.model_selection import StratifiedShuffleSplit\n",
    "from sklearn.model_selection import cross_val_score\n",
    "from sklearn.model_selection import cross_val_predict\n",
    "from sklearn.model_selection import GridSearchCV\n",
    "\n",
    "from sklearn.preprocessing import LabelEncoder\n",
    "from sklearn.preprocessing import OneHotEncoder\n",
    "from sklearn.preprocessing import LabelBinarizer\n",
    "from sklearn.preprocessing import StandardScaler\n",
    "from sklearn.preprocessing import Imputer\n",
    "from sklearn.preprocessing import PolynomialFeatures\n",
    "\n",
    "from sklearn.base import BaseEstimator, TransformerMixin\n",
    "\n",
    "from sklearn.pipeline import Pipeline\n",
    "from sklearn.pipeline import FeatureUnion\n",
    "\n",
    "from sklearn.linear_model import LinearRegression\n",
    "from sklearn.linear_model import SGDClassifier\n",
    "from sklearn.linear_model import LogisticRegression\n",
    "\n",
    "from sklearn.metrics import confusion_matrix\n",
    "from sklearn.metrics import precision_score, recall_score\n",
    "from sklearn.metrics import f1_score\n",
    "from sklearn.metrics import precision_recall_curve\n",
    "from sklearn.metrics import roc_curve\n",
    "from sklearn.metrics import roc_auc_score\n",
    "from sklearn.metrics import mean_squared_error\n",
    "\n",
    "from sklearn.ensemble import RandomForestClassifier\n",
    "from sklearn.ensemble import GradientBoostingRegressor\n",
    "\n",
    "from sklearn.neighbors import KNeighborsClassifier\n",
    "\n",
    "from sklearn.svm import LinearSVC\n",
    "from sklearn.svm import SVC\n",
    "\n",
    "from sklearn.tree import DecisionTreeClassifier\n",
    "from sklearn.tree import export_graphviz"
   ]
  },
  {
   "cell_type": "code",
   "execution_count": 2,
   "metadata": {},
   "outputs": [
    {
     "data": {
      "text/plain": [
       "'C:\\\\Users\\\\robin\\\\Dropbox\\\\Datasets'"
      ]
     },
     "execution_count": 2,
     "metadata": {},
     "output_type": "execute_result"
    }
   ],
   "source": [
    "os.getcwd()"
   ]
  },
  {
   "cell_type": "code",
   "execution_count": 3,
   "metadata": {},
   "outputs": [],
   "source": [
    "iris = datasets.load_iris()"
   ]
  },
  {
   "cell_type": "code",
   "execution_count": 4,
   "metadata": {},
   "outputs": [],
   "source": [
    "X = iris['data'][:,2:]\n",
    "y = iris.target"
   ]
  },
  {
   "cell_type": "code",
   "execution_count": 5,
   "metadata": {},
   "outputs": [],
   "source": [
    "tree_clf = DecisionTreeClassifier()"
   ]
  },
  {
   "cell_type": "code",
   "execution_count": 6,
   "metadata": {},
   "outputs": [
    {
     "data": {
      "text/plain": [
       "DecisionTreeClassifier(class_weight=None, criterion='gini', max_depth=None,\n",
       "                       max_features=None, max_leaf_nodes=None,\n",
       "                       min_impurity_decrease=0.0, min_impurity_split=None,\n",
       "                       min_samples_leaf=1, min_samples_split=2,\n",
       "                       min_weight_fraction_leaf=0.0, presort=False,\n",
       "                       random_state=None, splitter='best')"
      ]
     },
     "execution_count": 6,
     "metadata": {},
     "output_type": "execute_result"
    }
   ],
   "source": [
    "tree_clf.fit(X,y)"
   ]
  },
  {
   "cell_type": "code",
   "execution_count": 7,
   "metadata": {},
   "outputs": [],
   "source": [
    "export_graphviz(\n",
    "        tree_clf,\n",
    "        feature_names=iris.feature_names[2:],\n",
    "        out_file = \"iris_tree.dot\",\n",
    "        class_names=iris.target_names,\n",
    "        rounded=True,\n",
    "        filled=True\n",
    "    )"
   ]
  },
  {
   "cell_type": "code",
   "execution_count": 8,
   "metadata": {},
   "outputs": [],
   "source": [
    "make_moons = datasets.make_moons(n_samples = 100, noise = 0.4)"
   ]
  },
  {
   "cell_type": "code",
   "execution_count": 9,
   "metadata": {},
   "outputs": [],
   "source": [
    "label = make_moons[1]"
   ]
  },
  {
   "cell_type": "code",
   "execution_count": 10,
   "metadata": {},
   "outputs": [],
   "source": [
    "data= make_moons[0]"
   ]
  },
  {
   "cell_type": "code",
   "execution_count": 11,
   "metadata": {},
   "outputs": [],
   "source": [
    "X_0_0 = []\n",
    "X_0_1 = []\n",
    "X_1_0 = []\n",
    "X_1_1 = []\n",
    "for i in range(label.shape[0]) :\n",
    "    if label[i] == 1 :\n",
    "        X_1_0.append(data[i][0])\n",
    "        X_1_1.append(data[i][1])\n",
    "    else : \n",
    "        X_0_0.append(data[i][0])\n",
    "        X_0_1.append(data[i][1])    "
   ]
  },
  {
   "cell_type": "code",
   "execution_count": 12,
   "metadata": {},
   "outputs": [
    {
     "data": {
      "text/plain": [
       "<matplotlib.collections.PathCollection at 0x1fb9e3a97c8>"
      ]
     },
     "execution_count": 12,
     "metadata": {},
     "output_type": "execute_result"
    },
    {
     "data": {
      "image/png": "[encoded data removed]",
      "text/plain": [
       "<Figure size 432x288 with 1 Axes>"
      ]
     },
     "metadata": {
      "needs_background": "light"
     },
     "output_type": "display_data"
    }
   ],
   "source": [
    "plt.scatter(X_0_0, X_0_1, s = 0.5)\n",
    "plt.scatter(X_1_0, X_1_1, s = 0.5)"
   ]
  },
  {
   "cell_type": "code",
   "execution_count": 13,
   "metadata": {},
   "outputs": [],
   "source": [
    "X_train, X_test, y_train, y_test = train_test_split(data, label, test_size = 0.2)"
   ]
  },
  {
   "cell_type": "code",
   "execution_count": 14,
   "metadata": {},
   "outputs": [
    {
     "data": {
      "text/plain": [
       "((80, 2), (80,))"
      ]
     },
     "execution_count": 14,
     "metadata": {},
     "output_type": "execute_result"
    }
   ],
   "source": [
    "X_train.shape, y_train.shape"
   ]
  },
  {
   "cell_type": "code",
   "execution_count": 15,
   "metadata": {},
   "outputs": [],
   "source": [
    "tree_clf = DecisionTreeClassifier()"
   ]
  },
  {
   "cell_type": "code",
   "execution_count": 16,
   "metadata": {},
   "outputs": [],
   "source": [
    "param_grid = {'max_leaf_nodes' : range(2,9) , 'max_depth' : [2,3,4]}"
   ]
  },
  {
   "cell_type": "code",
   "execution_count": 17,
   "metadata": {},
   "outputs": [],
   "source": [
    "grid_search = GridSearchCV(tree_clf, param_grid = param_grid, cv = 3)"
   ]
  },
  {
   "cell_type": "code",
   "execution_count": 18,
   "metadata": {},
   "outputs": [
    {
     "name": "stderr",
     "output_type": "stream",
     "text": [
      "C:\\Users\\robin\\Anaconda3\\lib\\site-packages\\sklearn\\model_selection\\_search.py:814: DeprecationWarning: The default of the `iid` parameter will change from True to False in version 0.22 and will be removed in 0.24. This will change numeric results when test-set sizes are unequal.\n",
      "  DeprecationWarning)\n"
     ]
    },
    {
     "data": {
      "text/plain": [
       "GridSearchCV(cv=3, error_score='raise-deprecating',\n",
       "             estimator=DecisionTreeClassifier(class_weight=None,\n",
       "                                              criterion='gini', max_depth=None,\n",
       "                                              max_features=None,\n",
       "                                              max_leaf_nodes=None,\n",
       "                                              min_impurity_decrease=0.0,\n",
       "                                              min_impurity_split=None,\n",
       "                                              min_samples_leaf=1,\n",
       "                                              min_samples_split=2,\n",
       "                                              min_weight_fraction_leaf=0.0,\n",
       "                                              presort=False, random_state=None,\n",
       "                                              splitter='best'),\n",
       "             iid='warn', n_jobs=None,\n",
       "             param_grid={'max_depth': [2, 3, 4], 'max_leaf_nodes': range(2, 9)},\n",
       "             pre_dispatch='2*n_jobs', refit=True, return_train_score=False,\n",
       "             scoring=None, verbose=0)"
      ]
     },
     "execution_count": 18,
     "metadata": {},
     "output_type": "execute_result"
    }
   ],
   "source": [
    "grid_search.fit(X_train, y_train)"
   ]
  },
  {
   "cell_type": "code",
   "execution_count": 19,
   "metadata": {},
   "outputs": [
    {
     "data": {
      "text/plain": [
       "{'max_depth': 4, 'max_leaf_nodes': 6}"
      ]
     },
     "execution_count": 19,
     "metadata": {},
     "output_type": "execute_result"
    }
   ],
   "source": [
    "grid_search.best_params_"
   ]
  },
  {
   "cell_type": "code",
   "execution_count": 20,
   "metadata": {},
   "outputs": [],
   "source": [
    "tree_clf_grid = DecisionTreeClassifier(max_depth = 2, max_leaf_nodes = 4)"
   ]
  },
  {
   "cell_type": "code",
   "execution_count": 21,
   "metadata": {},
   "outputs": [
    {
     "data": {
      "text/plain": [
       "DecisionTreeClassifier(class_weight=None, criterion='gini', max_depth=2,\n",
       "                       max_features=None, max_leaf_nodes=4,\n",
       "                       min_impurity_decrease=0.0, min_impurity_split=None,\n",
       "                       min_samples_leaf=1, min_samples_split=2,\n",
       "                       min_weight_fraction_leaf=0.0, presort=False,\n",
       "                       random_state=None, splitter='best')"
      ]
     },
     "execution_count": 21,
     "metadata": {},
     "output_type": "execute_result"
    }
   ],
   "source": [
    "tree_clf_grid.fit(X_train, y_train)"
   ]
  },
  {
   "cell_type": "code",
   "execution_count": 22,
   "metadata": {},
   "outputs": [
    {
     "name": "stderr",
     "output_type": "stream",
     "text": [
      "C:\\Users\\robin\\Anaconda3\\lib\\site-packages\\sklearn\\model_selection\\_split.py:1978: FutureWarning: The default value of cv will change from 3 to 5 in version 0.22. Specify it explicitly to silence this warning.\n",
      "  warnings.warn(CV_WARNING, FutureWarning)\n"
     ]
    },
    {
     "data": {
      "text/plain": [
       "array([1.        , 0.85714286, 0.83333333])"
      ]
     },
     "execution_count": 22,
     "metadata": {},
     "output_type": "execute_result"
    }
   ],
   "source": [
    "cross_val_score(tree_clf_grid, X_test, y_test)"
   ]
  },
  {
   "cell_type": "code",
   "execution_count": 23,
   "metadata": {},
   "outputs": [
    {
     "data": {
      "text/plain": [
       "array([ 7017, 26262, 78575, 89221, 79175, 65263, 26629, 10312, 74064,\n",
       "       51357, 71014, 64704, 41511,  1368, 61113, 25851, 15806, 75225,\n",
       "       20626, 43074, 21207, 63915, 41234, 87987, 22812, 77360, 57491,\n",
       "       84271, 53080, 94620, 84280, 10661, 30081, 85523, 18040, 48166,\n",
       "       64358, 77562, 60644, 37459, 62846, 32253, 45328, 53783, 99351,\n",
       "       50127, 92274, 38145, 42884, 47400, 78137, 34863, 84676, 74448,\n",
       "       52494, 23961, 63623, 64340,  5732, 52278, 53169, 37207, 88213,\n",
       "       77506, 20903, 37467, 43325, 18671, 85071, 63534, 27158, 24227,\n",
       "       92881, 54723,  9000, 60534, 63572, 81783, 79910, 12836, 25005,\n",
       "         627, 77192, 66755, 26543, 69064, 71841, 35598, 62237, 77245,\n",
       "       69234, 62454, 80323, 60308, 47324, 92896, 98206, 53382, 24829,\n",
       "       93752])"
      ]
     },
     "execution_count": 23,
     "metadata": {},
     "output_type": "execute_result"
    }
   ],
   "source": [
    "np.random.randint(1,100000,100)"
   ]
  },
  {
   "cell_type": "code",
   "execution_count": 24,
   "metadata": {},
   "outputs": [
    {
     "data": {
      "text/plain": [
       "array([[ 0.53721171,  0.52024119],\n",
       "       [-1.24996225,  0.47835758],\n",
       "       [ 1.63658131, -0.48072936],\n",
       "       [ 1.66039163, -0.63601511],\n",
       "       [-0.78789416,  0.75301344],\n",
       "       [-0.49457385,  0.88397308],\n",
       "       [ 0.00994907,  1.61250329],\n",
       "       [ 0.43992067, -0.47787545],\n",
       "       [ 1.59749217, -0.03358784],\n",
       "       [ 0.55973216, -0.36071823],\n",
       "       [ 1.33466592, -0.00653072],\n",
       "       [-0.1188362 , -0.35054441],\n",
       "       [ 0.97837423, -0.45093502],\n",
       "       [-0.09786618,  0.17881795],\n",
       "       [ 0.71288214, -0.11096464],\n",
       "       [ 0.51023236,  1.15581015],\n",
       "       [ 0.671979  , -0.78461339],\n",
       "       [-0.91420217,  0.74830479],\n",
       "       [-0.12601886,  0.76885733],\n",
       "       [ 0.11423084,  0.01303983],\n",
       "       [ 2.34441627, -0.43219905],\n",
       "       [ 0.73569728, -0.98794021],\n",
       "       [ 0.07898928, -0.06417548],\n",
       "       [-0.31280473,  0.0422651 ],\n",
       "       [-1.3915169 , -0.21218222],\n",
       "       [ 0.35636464, -1.14610291],\n",
       "       [-0.18589658,  0.98828991],\n",
       "       [-0.94903814,  0.37297035],\n",
       "       [ 0.99664018,  1.16773234],\n",
       "       [-0.82649586,  0.528459  ],\n",
       "       [ 1.30990903, -1.02704476],\n",
       "       [ 0.88187341,  0.61806545],\n",
       "       [ 0.98936168,  0.59673852],\n",
       "       [ 2.49008745,  1.16148579],\n",
       "       [-0.73389949, -0.08536172],\n",
       "       [ 2.35850206,  0.52616963],\n",
       "       [ 0.75106386,  0.65140232],\n",
       "       [ 1.22920566,  0.25331716],\n",
       "       [-0.63330331,  0.49138747],\n",
       "       [-0.8645318 ,  1.03223318],\n",
       "       [ 0.45865904,  0.00418194],\n",
       "       [ 0.48668278,  0.29733514],\n",
       "       [ 0.69367011,  0.3495108 ],\n",
       "       [-0.73901333,  0.83204594],\n",
       "       [ 0.16028687, -0.13982768],\n",
       "       [ 0.39882409, -0.45186899],\n",
       "       [ 1.68573416,  0.32801813],\n",
       "       [-0.30745677,  0.03731713],\n",
       "       [ 0.00932591,  0.06005961],\n",
       "       [ 1.55394362,  0.3313537 ],\n",
       "       [-0.55187598,  1.186712  ],\n",
       "       [-0.54359717, -0.50254408],\n",
       "       [ 1.0813963 ,  0.06777302],\n",
       "       [ 0.86379163,  0.53417451],\n",
       "       [-0.82365216, -0.37656824],\n",
       "       [ 0.42120676, -0.8334261 ],\n",
       "       [ 1.01685319,  1.04991986],\n",
       "       [-0.46674604,  0.46164699],\n",
       "       [ 1.47175353, -0.16556842],\n",
       "       [-0.44615726,  0.38517769],\n",
       "       [ 1.92160127, -0.79940832],\n",
       "       [-1.33514039, -0.24549247],\n",
       "       [ 0.46516722, -0.61739321],\n",
       "       [-0.98869122,  0.86406522],\n",
       "       [ 0.1360454 , -0.27130679],\n",
       "       [ 1.55803892,  0.19600104],\n",
       "       [-1.11483298,  0.21613662],\n",
       "       [-1.18042119,  1.27997331],\n",
       "       [ 1.1156193 ,  0.21892796],\n",
       "       [ 0.2886461 , -0.11732559],\n",
       "       [ 1.40806498, -0.6071446 ],\n",
       "       [-0.34673326,  0.42256695],\n",
       "       [ 0.82983462, -0.75268314],\n",
       "       [ 0.65790918,  0.25703079],\n",
       "       [ 0.73497776,  0.24504207],\n",
       "       [-0.58388795,  0.2105672 ],\n",
       "       [-0.19022649, -0.33563673],\n",
       "       [-0.6236535 ,  0.90515769],\n",
       "       [ 1.39450745, -0.29806315],\n",
       "       [ 0.70400962,  1.25677554]])"
      ]
     },
     "execution_count": 24,
     "metadata": {},
     "output_type": "execute_result"
    }
   ],
   "source": [
    "X_train"
   ]
  },
  {
   "cell_type": "code",
   "execution_count": 25,
   "metadata": {},
   "outputs": [],
   "source": [
    "sous_ensembles_data = []\n",
    "sous_ensembles_label = []\n",
    "for i in range(1000) :\n",
    "    sous_ensemble_data = []\n",
    "    sous_ensemble_label = []\n",
    "    indices = np.random.randint(1,80,100)\n",
    "    for indice in indices :\n",
    "        indice = int(indice)\n",
    "        sous_ensemble_data.append(X_train[indice])\n",
    "        sous_ensemble_label.append(y_train[indice])\n",
    "    sous_ensembles_data.append(sous_ensemble_data)\n",
    "    sous_ensembles_label.append(sous_ensemble_label)"
   ]
  },
  {
   "cell_type": "code",
   "execution_count": 26,
   "metadata": {},
   "outputs": [
    {
     "data": {
      "text/plain": [
       "[array([-0.30745677,  0.03731713]),\n",
       " array([0.75106386, 0.65140232]),\n",
       " array([ 1.63658131, -0.48072936]),\n",
       " array([-0.55187598,  1.186712  ]),\n",
       " array([-0.55187598,  1.186712  ]),\n",
       " array([ 1.33466592, -0.00653072]),\n",
       " array([-0.18589658,  0.98828991]),\n",
       " array([ 0.671979  , -0.78461339]),\n",
       " array([-0.82649586,  0.528459  ]),\n",
       " array([-0.82649586,  0.528459  ]),\n",
       " array([1.68573416, 0.32801813]),\n",
       " array([ 0.97837423, -0.45093502]),\n",
       " array([-0.55187598,  1.186712  ]),\n",
       " array([-0.91420217,  0.74830479]),\n",
       " array([0.00994907, 1.61250329]),\n",
       " array([ 1.92160127, -0.79940832]),\n",
       " array([-0.49457385,  0.88397308]),\n",
       " array([ 0.39882409, -0.45186899]),\n",
       " array([-0.31280473,  0.0422651 ]),\n",
       " array([-0.31280473,  0.0422651 ]),\n",
       " array([ 1.59749217, -0.03358784]),\n",
       " array([-0.58388795,  0.2105672 ]),\n",
       " array([ 0.42120676, -0.8334261 ]),\n",
       " array([1.68573416, 0.32801813]),\n",
       " array([ 1.40806498, -0.6071446 ]),\n",
       " array([ 1.66039163, -0.63601511]),\n",
       " array([ 0.46516722, -0.61739321]),\n",
       " array([-0.46674604,  0.46164699]),\n",
       " array([ 2.34441627, -0.43219905]),\n",
       " array([1.68573416, 0.32801813]),\n",
       " array([-0.54359717, -0.50254408]),\n",
       " array([ 1.40806498, -0.6071446 ]),\n",
       " array([ 1.39450745, -0.29806315]),\n",
       " array([ 0.46516722, -0.61739321]),\n",
       " array([ 0.43992067, -0.47787545]),\n",
       " array([ 0.39882409, -0.45186899]),\n",
       " array([2.49008745, 1.16148579]),\n",
       " array([0.00994907, 1.61250329]),\n",
       " array([0.73497776, 0.24504207]),\n",
       " array([2.49008745, 1.16148579]),\n",
       " array([ 1.66039163, -0.63601511]),\n",
       " array([ 1.63658131, -0.48072936]),\n",
       " array([ 0.1360454 , -0.27130679]),\n",
       " array([-0.09786618,  0.17881795]),\n",
       " array([-0.49457385,  0.88397308]),\n",
       " array([0.88187341, 0.61806545]),\n",
       " array([ 0.97837423, -0.45093502]),\n",
       " array([ 0.16028687, -0.13982768]),\n",
       " array([-1.33514039, -0.24549247]),\n",
       " array([0.00994907, 1.61250329]),\n",
       " array([0.48668278, 0.29733514]),\n",
       " array([-1.18042119,  1.27997331]),\n",
       " array([-0.46674604,  0.46164699]),\n",
       " array([0.73497776, 0.24504207]),\n",
       " array([-0.55187598,  1.186712  ]),\n",
       " array([0.98936168, 0.59673852]),\n",
       " array([ 0.42120676, -0.8334261 ]),\n",
       " array([ 0.73569728, -0.98794021]),\n",
       " array([ 0.2886461 , -0.11732559]),\n",
       " array([0.45865904, 0.00418194]),\n",
       " array([1.01685319, 1.04991986]),\n",
       " array([0.45865904, 0.00418194]),\n",
       " array([-0.12601886,  0.76885733]),\n",
       " array([-0.73901333,  0.83204594]),\n",
       " array([-0.44615726,  0.38517769]),\n",
       " array([1.55394362, 0.3313537 ]),\n",
       " array([0.51023236, 1.15581015]),\n",
       " array([0.00932591, 0.06005961]),\n",
       " array([1.68573416, 0.32801813]),\n",
       " array([ 1.47175353, -0.16556842]),\n",
       " array([ 1.39450745, -0.29806315]),\n",
       " array([ 0.35636464, -1.14610291]),\n",
       " array([ 0.671979  , -0.78461339]),\n",
       " array([-1.11483298,  0.21613662]),\n",
       " array([ 0.07898928, -0.06417548]),\n",
       " array([0.98936168, 0.59673852]),\n",
       " array([-0.55187598,  1.186712  ]),\n",
       " array([0.00932591, 0.06005961]),\n",
       " array([-0.31280473,  0.0422651 ]),\n",
       " array([ 1.66039163, -0.63601511]),\n",
       " array([ 0.55973216, -0.36071823]),\n",
       " array([ 0.55973216, -0.36071823]),\n",
       " array([0.00932591, 0.06005961]),\n",
       " array([0.75106386, 0.65140232]),\n",
       " array([-0.18589658,  0.98828991]),\n",
       " array([ 0.2886461 , -0.11732559]),\n",
       " array([-0.18589658,  0.98828991]),\n",
       " array([-0.73901333,  0.83204594]),\n",
       " array([ 0.1360454 , -0.27130679]),\n",
       " array([-0.73901333,  0.83204594]),\n",
       " array([ 1.92160127, -0.79940832]),\n",
       " array([-0.73901333,  0.83204594]),\n",
       " array([ 0.43992067, -0.47787545]),\n",
       " array([0.00994907, 1.61250329]),\n",
       " array([0.70400962, 1.25677554]),\n",
       " array([-0.73901333,  0.83204594]),\n",
       " array([ 0.16028687, -0.13982768]),\n",
       " array([-0.6236535 ,  0.90515769]),\n",
       " array([0.70400962, 1.25677554]),\n",
       " array([-0.46674604,  0.46164699])]"
      ]
     },
     "execution_count": 26,
     "metadata": {},
     "output_type": "execute_result"
    }
   ],
   "source": [
    "sous_ensembles_data[0]"
   ]
  },
  {
   "cell_type": "code",
   "execution_count": 27,
   "metadata": {},
   "outputs": [],
   "source": [
    "sous_ensembles_data = np.array(sous_ensemble_data)\n",
    "sous_ensembles_label = np.array(sous_ensemble_label)"
   ]
  },
  {
   "cell_type": "code",
   "execution_count": 28,
   "metadata": {},
   "outputs": [],
   "source": [
    "liste_model = []\n",
    "for i in range(100) :\n",
    "    tree_clf_grid = DecisionTreeClassifier(max_depth = 2, max_leaf_nodes = 4)\n",
    "    #liste_model.append(tree_clf_grid.fit(sous_ensembles_data[i], sous_ensembles_label[i]))"
   ]
  },
  {
   "cell_type": "code",
   "execution_count": 29,
   "metadata": {},
   "outputs": [],
   "source": [
    "svm = poly_kernel_svm_clf = Pipeline([\n",
    "    ('scaler', StandardScaler()),\n",
    "    ('svm_clf', SVC(kernel = 'poly' , degree = 3, coef0 = 1, C=5)) \n",
    "])"
   ]
  },
  {
   "cell_type": "code",
   "execution_count": 30,
   "metadata": {},
   "outputs": [
    {
     "data": {
      "text/plain": [
       "Pipeline(memory=None,\n",
       "         steps=[('scaler',\n",
       "                 StandardScaler(copy=True, with_mean=True, with_std=True)),\n",
       "                ('svm_clf',\n",
       "                 SVC(C=5, cache_size=200, class_weight=None, coef0=1,\n",
       "                     decision_function_shape='ovr', degree=3,\n",
       "                     gamma='auto_deprecated', kernel='poly', max_iter=-1,\n",
       "                     probability=False, random_state=None, shrinking=True,\n",
       "                     tol=0.001, verbose=False))],\n",
       "         verbose=False)"
      ]
     },
     "execution_count": 30,
     "metadata": {},
     "output_type": "execute_result"
    }
   ],
   "source": [
    "poly_kernel_svm_clf.fit(X_train,y_train)"
   ]
  },
  {
   "cell_type": "code",
   "execution_count": 31,
   "metadata": {},
   "outputs": [
    {
     "data": {
      "text/plain": [
       "array([[0.53721171, 0.52024119]])"
      ]
     },
     "execution_count": 31,
     "metadata": {},
     "output_type": "execute_result"
    }
   ],
   "source": [
    "np.array([X_train[0]])"
   ]
  },
  {
   "cell_type": "code",
   "execution_count": 32,
   "metadata": {},
   "outputs": [
    {
     "data": {
      "text/plain": [
       "array([1], dtype=int64)"
      ]
     },
     "execution_count": 32,
     "metadata": {},
     "output_type": "execute_result"
    }
   ],
   "source": [
    "svm.predict(np.array([[0,0]]))"
   ]
  },
  {
   "cell_type": "code",
   "execution_count": 33,
   "metadata": {},
   "outputs": [
    {
     "data": {
      "text/plain": [
       "array([[-1.5       , -1.        ],\n",
       "       [-1.5       , -0.98743719],\n",
       "       [-1.5       , -0.97487437],\n",
       "       ...,\n",
       "       [ 2.5       ,  1.47487437],\n",
       "       [ 2.5       ,  1.48743719],\n",
       "       [ 2.5       ,  1.5       ]])"
      ]
     },
     "execution_count": 33,
     "metadata": {},
     "output_type": "execute_result"
    }
   ],
   "source": [
    "X_abs = np.linspace(-1.5,2.5,200)\n",
    "Y_ord = np.linspace(-1,1.5, 200)\n",
    "Points = []\n",
    "for x in X_abs :\n",
    "    for y in Y_ord :\n",
    "        Points.append([x,y])\n",
    "Points = np.array(Points)\n",
    "Points"
   ]
  },
  {
   "cell_type": "code",
   "execution_count": 34,
   "metadata": {},
   "outputs": [],
   "source": [
    "Pred = []\n",
    "for point in Points :\n",
    "    Pred.append(svm.predict([point]))\n",
    "Pred = np.array(Pred)"
   ]
  },
  {
   "cell_type": "code",
   "execution_count": 35,
   "metadata": {},
   "outputs": [
    {
     "data": {
      "text/plain": [
       "((40000, 2), (40000, 1))"
      ]
     },
     "execution_count": 35,
     "metadata": {},
     "output_type": "execute_result"
    }
   ],
   "source": [
    "Points.shape, Pred.shape"
   ]
  },
  {
   "cell_type": "code",
   "execution_count": 36,
   "metadata": {},
   "outputs": [],
   "source": [
    "Points_0 = []\n",
    "Points_1 = []\n",
    "for i in range(40000) :\n",
    "    if Pred[i] == 0:\n",
    "        Points_0.append(Points[i])\n",
    "    else :\n",
    "        Points_1.append(Points[i])"
   ]
  },
  {
   "cell_type": "code",
   "execution_count": 37,
   "metadata": {},
   "outputs": [
    {
     "data": {
      "text/plain": [
       "((17552,), (17552,))"
      ]
     },
     "execution_count": 37,
     "metadata": {},
     "output_type": "execute_result"
    }
   ],
   "source": [
    "Points_0 = np.array(Points_0)\n",
    "Points_1 = np.array(Points_1)\n",
    "Points_0[:,0].shape, Points_0[:,1].shape"
   ]
  },
  {
   "cell_type": "code",
   "execution_count": 38,
   "metadata": {},
   "outputs": [
    {
     "data": {
      "text/plain": [
       "array([-1.5       , -1.5       , -1.5       , ...,  1.37437186,\n",
       "        1.37437186,  1.37437186])"
      ]
     },
     "execution_count": 38,
     "metadata": {},
     "output_type": "execute_result"
    }
   ],
   "source": [
    "Points_0[:,0]"
   ]
  },
  {
   "cell_type": "code",
   "execution_count": 39,
   "metadata": {},
   "outputs": [
    {
     "data": {
      "text/plain": [
       "<matplotlib.collections.PathCollection at 0x1fb9e4180c8>"
      ]
     },
     "execution_count": 39,
     "metadata": {},
     "output_type": "execute_result"
    },
    {
     "data": {
      "image/png": "[encoded data removed]",
      "text/plain": [
       "<Figure size 432x288 with 1 Axes>"
      ]
     },
     "metadata": {
      "needs_background": "light"
     },
     "output_type": "display_data"
    }
   ],
   "source": [
    "axes = plt.gca()\n",
    "axes.set_xlim(-1.5,2.5)\n",
    "axes.set_ylim(-1,1.5)\n",
    "plt.scatter(Points_0[:,0], Points_0[:,1])#, s = 'o', c = 0.5)\n",
    "plt.scatter(Points_1[:,0], Points_1[:,1])#, s = 'o', c = 0.5)\n",
    "plt.scatter(X_0_0, X_0_1, s = 20, marker = 'o', color = 'red')\n",
    "plt.scatter(X_1_0, X_1_1, s = 20, marker = '^', color = 'black')"
   ]
  },
  {
   "cell_type": "code",
   "execution_count": 40,
   "metadata": {},
   "outputs": [],
   "source": [
    "np.random.seed(42)\n",
    "X = np.random.rand(100, 1) - 0.5\n",
    "y = 3*X[:, 0]**2 + 0.05 * np.random.randn(100)"
   ]
  },
  {
   "cell_type": "code",
   "execution_count": 75,
   "metadata": {},
   "outputs": [],
   "source": [
    "gbrt = GradientBoostingRegressor(max_depth = 2, n_estimators = 200, learning_rate = 0.1)"
   ]
  },
  {
   "cell_type": "code",
   "execution_count": 76,
   "metadata": {},
   "outputs": [
    {
     "data": {
      "text/plain": [
       "GradientBoostingRegressor(alpha=0.9, criterion='friedman_mse', init=None,\n",
       "                          learning_rate=0.1, loss='ls', max_depth=2,\n",
       "                          max_features=None, max_leaf_nodes=None,\n",
       "                          min_impurity_decrease=0.0, min_impurity_split=None,\n",
       "                          min_samples_leaf=1, min_samples_split=2,\n",
       "                          min_weight_fraction_leaf=0.0, n_estimators=200,\n",
       "                          n_iter_no_change=None, presort='auto',\n",
       "                          random_state=None, subsample=1.0, tol=0.0001,\n",
       "                          validation_fraction=0.1, verbose=0, warm_start=False)"
      ]
     },
     "execution_count": 76,
     "metadata": {},
     "output_type": "execute_result"
    }
   ],
   "source": [
    "gbrt.fit(X,y)"
   ]
  },
  {
   "cell_type": "code",
   "execution_count": 77,
   "metadata": {},
   "outputs": [
    {
     "data": {
      "text/plain": [
       "array([-0.03863457])"
      ]
     },
     "execution_count": 77,
     "metadata": {},
     "output_type": "execute_result"
    }
   ],
   "source": [
    "gbrt.predict([[0]])"
   ]
  },
  {
   "cell_type": "code",
   "execution_count": 80,
   "metadata": {},
   "outputs": [],
   "source": [
    "abs = np.linspace(-0.5,0.5,50)\n",
    "ord = [gbrt.predict([[a]])[0] for a in abs]"
   ]
  },
  {
   "cell_type": "code",
   "execution_count": 81,
   "metadata": {},
   "outputs": [
    {
     "data": {
      "text/plain": [
       "[<matplotlib.lines.Line2D at 0x1fb9e87cf48>]"
      ]
     },
     "execution_count": 81,
     "metadata": {},
     "output_type": "execute_result"
    },
    {
     "data": {
      "image/png": "[encoded data removed]",
      "text/plain": [
       "<Figure size 432x288 with 1 Axes>"
      ]
     },
     "metadata": {
      "needs_background": "light"
     },
     "output_type": "display_data"
    }
   ],
   "source": [
    "plt.scatter(X,y)\n",
    "plt.plot(abs,ord, color = 'r')"
   ]
  },
  {
   "cell_type": "code",
   "execution_count": null,
   "metadata": {},
   "outputs": [],
   "source": []
  }
 ],
 "metadata": {
  "kernelspec": {
   "display_name": "Python 3",
   "language": "python",
   "name": "python3"
  },
  "language_info": {
   "codemirror_mode": {
    "name": "ipython",
    "version": 3
   },
   "file_extension": ".py",
   "mimetype": "text/x-python",
   "name": "python",
   "nbconvert_exporter": "python",
   "pygments_lexer": "ipython3",
   "version": "3.7.4"
  }
 },
 "nbformat": 4,
 "nbformat_minor": 2
}
